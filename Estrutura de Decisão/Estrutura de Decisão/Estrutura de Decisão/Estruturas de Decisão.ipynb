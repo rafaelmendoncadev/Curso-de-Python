{
 "cells": [
  {
   "cell_type": "markdown",
   "id": "8535c274",
   "metadata": {
    "id": "8535c274"
   },
   "source": [
    "# Estruturas de decisão\n",
    "\n",
    "<span style=\"color: red;\"><b>Todos os exercícios são feitos partindo-se do pressuposto de que todas as entradas são dadas de forma correta. Casos limite não mencionados no enunciado não são abordados porque não fazem parte do exercício.</b></span>"
   ]
  },
  {
   "cell_type": "markdown",
   "id": "9c3d817e",
   "metadata": {
    "id": "9c3d817e"
   },
   "source": [
    "#### 1. Faça um Programa que peça dois números e imprima o maior deles."
   ]
  },
  {
   "cell_type": "code",
   "execution_count": 3,
   "id": "ae45c028",
   "metadata": {
    "id": "ae45c028"
   },
   "outputs": [
    {
     "name": "stdout",
     "output_type": "stream",
     "text": [
      "O maior número é 40\n"
     ]
    }
   ],
   "source": [
    "numero1 = int(input(\"Digite o primeiro número: \"))\n",
    "numero2 = int(input(\"Digite o segundo número: \"))\n",
    "if numero1 > numero2:\n",
    "    print(f\"O maior número é {numero1}\")\n",
    "elif numero2 > numero1:\n",
    "    print(f\"O maior número é {numero2}\")\n",
    "else:\n",
    "    print(\"Os números são iguais\")\n",
    "        "
   ]
  },
  {
   "cell_type": "markdown",
   "id": "ff510803",
   "metadata": {
    "id": "ff510803"
   },
   "source": [
    "#### 2. Faça um Programa que peça um valor e mostre na tela se o valor é positivo ou negativo."
   ]
  },
  {
   "cell_type": "code",
   "execution_count": 6,
   "id": "8952f58f",
   "metadata": {
    "id": "8952f58f"
   },
   "outputs": [
    {
     "name": "stdout",
     "output_type": "stream",
     "text": [
      "O número é zero\n"
     ]
    }
   ],
   "source": [
    "numero = int(input(\"Digite um número: \"))\n",
    "if numero > 0:\n",
    "    print(\"O número é positivo\")\n",
    "elif numero < 0:\n",
    "    print(\"O número é negativo\")\n",
    "else:\n",
    "    print(\"O número é zero\")\n",
    "    "
   ]
  },
  {
   "cell_type": "markdown",
   "id": "6966546b",
   "metadata": {
    "id": "6966546b"
   },
   "source": [
    "#### 3. Faça um Programa que verifique o estado civil de uma pessoa. Se a letra digitada é \"C\" (Casado), \"S\" (Solteiro), \"D\" (Divorciado), \"V\" (Viúvo) ou \"O\" (outros). Conforme a letra escrita pelo usuário seu programa deve escrever o estado civil, exemplo:\n",
    "\n",
    "Usuário digita: C\n",
    "\n",
    "Seu programa deve responder:\n",
    "C - Casado"
   ]
  },
  {
   "cell_type": "code",
   "execution_count": 9,
   "id": "876a1e67",
   "metadata": {
    "id": "876a1e67"
   },
   "outputs": [
    {
     "name": "stdout",
     "output_type": "stream",
     "text": [
      "Estado civil inválido\n"
     ]
    }
   ],
   "source": [
    "estado_civil = input(\"Digite seu estado civil (solteiro, casado, divorciado, viuvo): \").strip().lower()\n",
    "if estado_civil == \"solteiro\":\n",
    "    print(\"Você é solteiro\")    \n",
    "elif estado_civil == \"casado\":\n",
    "    print(\"Você é casado\")\n",
    "elif estado_civil == \"divorciado\":\n",
    "    print(\"Você é divorciado\")  \n",
    "elif estado_civil == \"viuvo\":\n",
    "    print(\"Você é viúvo\")\n",
    "else:\n",
    "    print(\"Estado civil inválido\")\n",
    "    "
   ]
  },
  {
   "cell_type": "markdown",
   "id": "c122c0cf",
   "metadata": {
    "id": "c122c0cf"
   },
   "source": [
    "#### 4. Faça um Programa que verifique se o e-mail digitado faz parte dos e-mails de spam."
   ]
  },
  {
   "cell_type": "code",
   "execution_count": 12,
   "id": "59bed184",
   "metadata": {
    "id": "59bed184"
   },
   "outputs": [
    {
     "name": "stdout",
     "output_type": "stream",
     "text": [
      "Seu e-mail está na lista de spam\n"
     ]
    }
   ],
   "source": [
    "emails_spam = \"fulano@gmail.com,beltrano@gmail.com,ciclano@gmail.com\"\n",
    "email = input(\"Digite seu e-mail: \").strip().lower()\n",
    "if email in emails_spam.split(\",\"):\n",
    "    print(\"Seu e-mail está na lista de spam\")\n",
    "else:\n",
    "    print(\"Seu e-mail não está na lista de spam\")\n",
    "    \n"
   ]
  },
  {
   "cell_type": "markdown",
   "id": "487ee073",
   "metadata": {
    "id": "487ee073"
   },
   "source": [
    "#### 5. Faça um programa para a leitura de duas notas parciais de um aluno. O programa deve calcular a média alcançada por aluno e apresentar:\n",
    "\n",
    "##### A mensagem \"Aprovado\", se a média alcançada for maior ou igual a sete;\n",
    "##### A mensagem \"Reprovado\", se a média for menor do que sete;\n",
    "##### A mensagem \"Aprovado com Distinção\", se a média for igual a dez."
   ]
  },
  {
   "cell_type": "code",
   "execution_count": 15,
   "id": "7f5c7096",
   "metadata": {
    "id": "7f5c7096"
   },
   "outputs": [
    {
     "name": "stdout",
     "output_type": "stream",
     "text": [
      "Reprovado\n"
     ]
    }
   ],
   "source": [
    "nota1 = float(input(\"Digite a primeira nota: \"))\n",
    "nota2 = float(input(\"Digite a segunda nota: \")) \n",
    "media = (nota1 + nota2) / 2\n",
    "if media == 10:\n",
    "    print(\"Aprovado com distinção\")\n",
    "elif media > 7:\n",
    "    print(\"Aprovado\")    \n",
    "else:\n",
    "    print(\"Reprovado\")\n"
   ]
  },
  {
   "cell_type": "markdown",
   "id": "6dd3f171",
   "metadata": {
    "id": "6dd3f171"
   },
   "source": [
    "#### 6. Faça um Programa que leia o orçamento de 3 empresas e mostre o maior deles."
   ]
  },
  {
   "cell_type": "code",
   "execution_count": 2,
   "id": "51b591e5",
   "metadata": {
    "id": "51b591e5"
   },
   "outputs": [
    {
     "name": "stdout",
     "output_type": "stream",
     "text": [
      "A primeira empresa é a mais barata\n"
     ]
    }
   ],
   "source": [
    "orcamento1 = float(input(\"Digite o orçamento da primeira empresa: \"))\n",
    "orcamento2 = float(input(\"Digite o orçamento da segunda empresa: \"))\n",
    "orcamento3 = float(input(\"Digite o orçamento da terceira empresa: \"))\n",
    "if orcamento1 < orcamento2 and orcamento1 < orcamento3:\n",
    "    print(\"A primeira empresa é a mais barata\")\n",
    "elif orcamento2 < orcamento1 and orcamento2 < orcamento3:\n",
    "    print(\"A segunda empresa é a mais barata\")  \n",
    "elif orcamento3 < orcamento1 and orcamento3 < orcamento2:\n",
    "    print(\"A terceira empresa é a mais barata\")\n",
    "else:\n",
    "    print(\"Todas as empresas têm o mesmo orçamento\")\n",
    "        \n"
   ]
  },
  {
   "cell_type": "markdown",
   "id": "ce09ed1c",
   "metadata": {
    "id": "ce09ed1c"
   },
   "source": [
    "#### 7. Faça um Programa que leia três orçamentos e mostre o maior e o menor deles."
   ]
  },
  {
   "cell_type": "code",
   "execution_count": 3,
   "id": "249f1eb8",
   "metadata": {
    "id": "249f1eb8"
   },
   "outputs": [
    {
     "name": "stdout",
     "output_type": "stream",
     "text": [
      "A segunda empresa é a mais barata\n",
      "A terceira empresa é a mais cara\n"
     ]
    }
   ],
   "source": [
    "orcamento1 = float(input(\"Digite o orçamento da primeira empresa: \"))\n",
    "orcamento2 = float(input(\"Digite o orçamento da segunda empresa: \"))\n",
    "orcamento3 = float(input(\"Digite o orçamento da terceira empresa: \"))\n",
    "if orcamento1 < orcamento2 and orcamento1 < orcamento3:\n",
    "    print(\"A primeira empresa é a mais barata\")\n",
    "elif orcamento2 < orcamento1 and orcamento2 < orcamento3:\n",
    "    print(\"A segunda empresa é a mais barata\")  \n",
    "elif orcamento3 < orcamento1 and orcamento3 < orcamento2:\n",
    "    print(\"A terceira empresa é a mais barata\")\n",
    "else:\n",
    "    print(\"Todas as empresas têm o mesmo orçamento\")\n",
    "\n",
    "if orcamento1 > orcamento2 and orcamento1 > orcamento3:\n",
    "    print(\"A primeira empresa é a mais cara\")\n",
    "elif orcamento2 > orcamento1 and orcamento2 > orcamento3:\n",
    "    print(\"A segunda empresa é a mais cara\")  \n",
    "elif orcamento3 > orcamento1 and orcamento3 > orcamento2:\n",
    "    print(\"A terceira empresa é a mais cara\")\n",
    "else:\n",
    "    print(\"Todas as empresas têm o mesmo orçamento\")\n",
    "        "
   ]
  },
  {
   "cell_type": "markdown",
   "id": "7453d43a",
   "metadata": {
    "id": "7453d43a"
   },
   "source": [
    "#### 8. Faça um programa que pergunte o preço de três produtos e informe qual produto você deve comprar, sabendo que a decisão é sempre pelo mais barato."
   ]
  },
  {
   "cell_type": "code",
   "execution_count": 6,
   "id": "26a9503e",
   "metadata": {
    "id": "26a9503e"
   },
   "outputs": [
    {
     "name": "stdout",
     "output_type": "stream",
     "text": [
      "Compre qualquer um dos produtos, todos têm o mesmo preço\n"
     ]
    }
   ],
   "source": [
    "produto1 = float(input(\"Digite o valor do primeiro produto: \"))\n",
    "produto2 = float(input(\"Digite o valor do segundo produto: \"))\n",
    "produto3 = float(input(\"Digite o valor do terceiro produto: \"))\n",
    "if produto1 < produto2 and produto1 < produto3:\n",
    "    print(\"Você deve comprar o primeiro produto\")\n",
    "elif produto2 < produto1 and produto2 < produto3:\n",
    "    print(\"Você deve comprar o segundo produto\")\n",
    "elif produto3 < produto1 and produto3 < produto2:\n",
    "    print(\"Você deve comprar o terceiro produto\")\n",
    "else:\n",
    "    print(\"Compre qualquer um dos produtos, todos têm o mesmo preço\")\n"
   ]
  },
  {
   "cell_type": "markdown",
   "id": "9ade258f",
   "metadata": {
    "id": "9ade258f"
   },
   "source": [
    "#### 9. Faça um Programa que leia três números e mostre-os em ordem decrescente."
   ]
  },
  {
   "cell_type": "code",
   "execution_count": 7,
   "id": "f194c39e",
   "metadata": {
    "id": "f194c39e"
   },
   "outputs": [
    {
     "name": "stdout",
     "output_type": "stream",
     "text": [
      "Ordem decrescente: 150, 100, 20\n"
     ]
    }
   ],
   "source": [
    "numero1 = int(input(\"Digite o primeiro número: \"))\n",
    "numero2 = int(input(\"Digite o segundo número: \"))\n",
    "numero3 = int(input(\"Digite o terceiro número: \"))\n",
    "# coloca os números em ordem decrescente\n",
    "if numero1 > numero2 and numero1 > numero3:\n",
    "    maior = numero1\n",
    "    if numero2 > numero3:\n",
    "        meio = numero2\n",
    "        menor = numero3\n",
    "    else:\n",
    "        meio = numero3\n",
    "        menor = numero2\n",
    "elif numero2 > numero1 and numero2 > numero3:\n",
    "    maior = numero2\n",
    "    if numero1 > numero3:\n",
    "        meio = numero1\n",
    "        menor = numero3\n",
    "    else:\n",
    "        meio = numero3\n",
    "        menor = numero1\n",
    "else:   \n",
    "    maior = numero3\n",
    "    if numero1 > numero2:\n",
    "        meio = numero1\n",
    "        menor = numero2\n",
    "    else:\n",
    "        meio = numero2\n",
    "        menor = numero1\n",
    "print(f\"Ordem decrescente: {maior}, {meio}, {menor}\")\n"
   ]
  },
  {
   "cell_type": "markdown",
   "id": "d06e2fe8",
   "metadata": {
    "id": "d06e2fe8"
   },
   "source": [
    "#### 10. Faça um Programa que pergunte em que turno você estuda. Peça para digitar M-matutino ou V-Vespertino ou N- Noturno. Imprima a mensagem \"Bom Dia!\", \"Boa Tarde!\" ou \"Boa Noite!\" ou \"Valor Inválido!\", conforme o caso."
   ]
  },
  {
   "cell_type": "code",
   "execution_count": 12,
   "id": "1eb36141",
   "metadata": {
    "id": "1eb36141"
   },
   "outputs": [
    {
     "name": "stdout",
     "output_type": "stream",
     "text": [
      "Valor inválido!\n"
     ]
    }
   ],
   "source": [
    "pergunta = input(\"Qual turno você estuda? M - Matutino, V - Vespertino, N - Noturno: \").upper()\n",
    "if pergunta == \"M\":\n",
    "    print(\"Bom dia!\")\n",
    "elif pergunta == \"V\":\n",
    "    print(\"Boa tarde!\")\n",
    "elif pergunta == \"N\":\n",
    "    print(\"Boa noite!\")\n",
    "else:\n",
    "    print(\"Valor inválido!\")\n"
   ]
  },
  {
   "cell_type": "markdown",
   "id": "4864b755",
   "metadata": {
    "id": "4864b755"
   },
   "source": [
    "#### 11. As Organizações Tabajara resolveram dar um aumento de salário aos seus colaboradores e lhe contraram para desenvolver o programa que calculará os reajustes. Faça um programa que recebe o salário de um colaborador e o reajuste segundo o seguinte critério, baseado no salário atual:\n",
    "\n",
    "##### salários até R\\\\$ 280,00 (incluindo) : aumento de 20% \n",
    "\n",
    "##### salários entre R\\\\$ 280,00 e R\\\\$ 700,00 : aumento de 15% \n",
    "\n",
    "##### salários entre R\\\\$ 700,00 e R\\\\$ 1500,00 : aumento de 10% \n",
    "\n",
    "##### salários de R\\\\$ 1500,00 em diante : aumento de 5% Após o aumento ser realizado, informe na tela: \n",
    "\n",
    "###### o salário antes do reajuste;\n",
    "\n",
    "###### o percentual de aumento aplicado;\n",
    "\n",
    "###### o valor do aumento;\n",
    "\n",
    "###### o novo salário, após o aumento.\n",
    "\n",
    "###### Obs: Não vamos nos preocupar tanto com a formatação dos números (nº de casas decimais, por exemplo, veremos isso no próximo módulo)"
   ]
  },
  {
   "cell_type": "code",
   "execution_count": 17,
   "id": "f0d34916",
   "metadata": {
    "id": "f0d34916"
   },
   "outputs": [
    {
     "name": "stdout",
     "output_type": "stream",
     "text": [
      "Salário antes do reajuste: 500.00\n",
      "Percentual do aumento é 15%\n",
      "Valor do aumento: 75.00\n",
      "Novo salário: 575.00\n"
     ]
    }
   ],
   "source": [
    "salario = float(input(\"Digite o salário do funcionário: \"))\n",
    "if salario <= 280:\n",
    "    aumento = salario * 0.20\n",
    "    novo_salario = salario + aumento\n",
    "    percentual = 20 \n",
    "    print(f\"Salário antes do reajuste: {salario:.2f}\")\n",
    "    print(f\"Percentual do aumento é 20%\")\n",
    "    print(f\"Valor do aumento: {aumento:.2f}\")\n",
    "    print(f\"Novo salário: {novo_salario:.2f}\")\n",
    "elif salario <= 700:\n",
    "    aumento = salario * 0.15\n",
    "    novo_salario = salario + aumento\n",
    "    percentual = 15 \n",
    "    print(f\"Salário antes do reajuste: {salario:.2f}\")\n",
    "    print(f\"Percentual do aumento é 15%\")\n",
    "    print(f\"Valor do aumento: {aumento:.2f}\")\n",
    "    print(f\"Novo salário: {novo_salario:.2f}\")\n",
    "elif salario <= 1500:\n",
    "    aumento = salario * 0.10\n",
    "    novo_salario = salario + aumento\n",
    "    percentual = 10 \n",
    "    print(f\"Salário antes do reajuste: {salario:.2f}\")\n",
    "    print(f\"Percentual do aumento é 10%\")\n",
    "    print(f\"Valor do aumento: {aumento:.2f}\")\n",
    "    print(f\"Novo salário: {novo_salario:.2f}\")\n",
    "else:\n",
    "    aumento = salario * 0.05\n",
    "    novo_salario = salario + aumento\n",
    "    percentual = 5 \n",
    "    print(f\"Salário antes do reajuste: {salario:.2f}\")\n",
    "    print(f\"Percentual do aumento é 5%\")\n",
    "    print(f\"Valor do aumento: {aumento:.2f}\")\n",
    "    print(f\"Novo salário: {novo_salario:.2f}\")\n",
    "\n",
    "\n",
    "\n",
    "\n"
   ]
  },
  {
   "cell_type": "markdown",
   "id": "b037f1e8",
   "metadata": {
    "id": "b037f1e8"
   },
   "source": [
    "#### 12 . Faça um programa para o cálculo de uma folha de pagamento, sabendo que os descontos são do Imposto de Renda, que depende do salário bruto (conforme tabela abaixo) e que o FGTS corresponde a 11% do Salário Bruto, mas não é descontado (é a empresa que deposita). O Salário Líquido corresponde ao Salário Bruto menos os descontos. O programa deverá pedir ao usuário o valor da sua hora e a quantidade de horas trabalhadas no mês.\n",
    "\n",
    "Desconto do IR:<br>\n",
    "Salário Bruto até 900 (inclusive) - isento<br>\n",
    "Salário Bruto até 1500 (inclusive) - desconto de 5%<br>\n",
    "Salário Bruto até 2500 (inclusive) - desconto de 10%<br>\n",
    "Salário Bruto acima de 2500 - desconto de 20%<br>\n",
    "Imprima na tela as informações, dispostas conforme o exemplo abaixo. No exemplo o valor da hora é 5 e a quantidade de hora é 220.\n",
    "\n",
    "Salário Bruto: (5 * 220)        : R\\\\$ 1100,00<br>\n",
    "(-) IR (5%)                     : R\\\\$   55,00<br>\n",
    "(-) INSS ( 10%)                 : R\\\\$  110,00<br>\n",
    "FGTS (11%)                      : R\\\\$  121,00<br>\n",
    "Total de descontos              : R\\\\$  165,00<br>\n",
    "Salário Liquido                 : R\\\\$  935,00<br>\n",
    "\n",
    "###### Obs: Não vamos nos preocupar tanto com a formatação dos números (nº de casas decimais, por exemplo, veremos isso no próximo módulo)"
   ]
  },
  {
   "cell_type": "code",
   "execution_count": 22,
   "id": "dad18bb2",
   "metadata": {
    "id": "dad18bb2"
   },
   "outputs": [
    {
     "name": "stdout",
     "output_type": "stream",
     "text": [
      "Salário bruto: 3000.00\n",
      "INSS: 300.00\n",
      "IR: 600.00\n",
      "FGTS: 330.00\n",
      "Total de descontos: 1230.00\n",
      "Salário líquido: 1770.00\n"
     ]
    }
   ],
   "source": [
    "salario_bruto = float(input(\"Digite o salário bruto do funcionário: \"))\n",
    "if salario_bruto <= 900:\n",
    "    inss = salario_bruto * 0.10\n",
    "    fgts = salario_bruto * 0.11\n",
    "    ir = 0\n",
    "    salario_liquido = salario_bruto - inss - ir - fgts\n",
    "elif salario_bruto <= 1500:\n",
    "    inss = salario_bruto * 0.10\n",
    "    ir = salario_bruto * 0.05\n",
    "    fgts = salario_bruto * 0.11\n",
    "    salario_liquido = salario_bruto - inss - ir - fgts\n",
    "elif salario_bruto <= 2500:\n",
    "    inss = salario_bruto * 0.10\n",
    "    ir = salario_bruto * 0.10\n",
    "    fgts = salario_bruto * 0.11\n",
    "    salario_liquido = salario_bruto - inss - ir - fgts\n",
    "else:\n",
    "    inss = salario_bruto * 0.10\n",
    "    ir = salario_bruto * 0.20 \n",
    "    fgts = salario_bruto * 0.11  \n",
    "    salario_liquido = salario_bruto - inss - ir - fgts\n",
    "    \n",
    "print(f\"Salário bruto: {salario_bruto:.2f}\")\n",
    "print(f\"INSS: {inss:.2f}\")\n",
    "print(f\"IR: {ir:.2f}\")\n",
    "print(f\"FGTS: {fgts:.2f}\")\n",
    "print(f\"Total de descontos: {inss + ir + fgts:.2f}\")\n",
    "print(f\"Salário líquido: {salario_liquido:.2f}\")\n",
    "\n",
    "\n"
   ]
  },
  {
   "cell_type": "markdown",
   "id": "814fc211",
   "metadata": {
    "id": "814fc211"
   },
   "source": [
    "#### 13. Faça um Programa que leia um número e exiba o dia correspondente da semana. (1-Domingo, 2- Segunda, etc.), se digitar outro valor deve aparecer valor inválido."
   ]
  },
  {
   "cell_type": "code",
   "execution_count": 27,
   "id": "f2c2b8d8",
   "metadata": {
    "id": "f2c2b8d8"
   },
   "outputs": [
    {
     "name": "stdout",
     "output_type": "stream",
     "text": [
      "Sábado\n"
     ]
    }
   ],
   "source": [
    "dia_semana = int(input(\"Digite um número de 1 a 7: \"))\n",
    "if dia_semana == 1:\n",
    "    print(\"Domingo\")\n",
    "elif dia_semana == 2:\n",
    "    print(\"Segunda-feira\")\n",
    "elif dia_semana == 3:\n",
    "    print(\"Terça-feira\")\n",
    "elif dia_semana == 4:\n",
    "    print(\"Quarta-feira\")\n",
    "elif dia_semana == 5:\n",
    "    print(\"Quinta-feira\")\n",
    "elif dia_semana == 6:\n",
    "    print(\"Sexta-feira\")    \n",
    "elif dia_semana == 7:\n",
    "    print(\"Sábado\")\n",
    "else:\n",
    "    print(\"Número inválido! Digite um número de 1 a 7\")\n",
    "    "
   ]
  },
  {
   "cell_type": "markdown",
   "id": "6e5f461e",
   "metadata": {
    "id": "6e5f461e"
   },
   "source": [
    "#### 14. Faça um programa que lê as duas notas parciais obtidas por um aluno numa disciplina ao longo de um semestre, e calcule a sua média. Em seguida, mostre qual conceito o aluno teve. A atribuição de conceitos obedece à tabela abaixo:\n",
    "<pre>\n",
    "Média de Aproveitamento  Conceito\n",
    "Entre 9.0 e 10.0        A\n",
    "Entre 7.5 e 9.0         B\n",
    "Entre 6.0 e 7.5         C\n",
    "Entre 4.0 e 6.0         D\n",
    "Entre 4.0 e zero        E\n",
    "</pre>"
   ]
  },
  {
   "cell_type": "code",
   "execution_count": 34,
   "id": "29721a43",
   "metadata": {
    "id": "29721a43"
   },
   "outputs": [
    {
     "name": "stdout",
     "output_type": "stream",
     "text": [
      "Nota inválida\n"
     ]
    }
   ],
   "source": [
    "nota1 = float(input(\"Digite a primeira nota: \"))\n",
    "nota2 = float(input(\"Digite a segunda nota: \"))\n",
    "media = (nota1 + nota2) / 2\n",
    "if media >= 9 and media <= 10:\n",
    "    print(\"Conceito A\")\n",
    "elif media >= 7.5 and media < 9:\n",
    "    print(\"Conceito B\")\n",
    "elif media >= 6 and media < 7.5:\n",
    "    print(\"Conceito C\")\n",
    "elif media >= 4 and media < 6:\n",
    "    print(\"Conceito D\") \n",
    "elif media >= 0 and media < 4:\n",
    "    print(\"Conceito E\")\n",
    "else:\n",
    "    print(\"Nota inválida\")\n",
    "    "
   ]
  },
  {
   "cell_type": "markdown",
   "id": "e6b3bcaf",
   "metadata": {
    "id": "e6b3bcaf"
   },
   "source": [
    "#### 15. Você está construindo um calendário para controlar dias de trabalho a pedido do RH. Nessa construção, você vai precisar definir quais anos são bissextos e quais não são, para montar o calendário de forma correta. Faça um Programa que peça um número correspondente a um determinado ano e em seguida informe se este ano é ou não bissexto.\n",
    "<pre>\n",
    "Dica para determinar se um ano é bissexto: \n",
    "- São bissextos todos os anos múltiplos de 400, p.ex.: 1600, 2000, 2400, 2800...\n",
    "- São bissextos todos os múltiplos de 4, exceto se for múltiplo de 100 mas não de 400, \n",
    "p.ex.: 1996, 2000, 2004, 2008, 2012, 2016, 2020, 2024, 2028...\n",
    "- Não são bissextos todos os demais anos.<br>\n",
    "ex1: 2004 é múltiplo de 4, mas não é múltiplo de 100, então é bissexto.\n",
    "ex2: 2000 é múltiplo de 4, mas é múltiplo de 100, só que também é multiplo de 400, então é bissexto (porque todo ano múltiplo de 400 é bissexto, independente do resto).\n",
    "ex3: 1900 é múltiplo de 4, é múltiplo de 100, mas não é múltiplo de 400, então não é bissexto\n",
    "\n",
    "</pre>\n",
    "\n",
    "Dica: lembre que: numero % 4 é o resto da divisão do número por 4, ex: 10 % 3 = 1 (já que 10/3 = 3 e resta 1)"
   ]
  },
  {
   "cell_type": "code",
   "execution_count": 41,
   "id": "56af223f",
   "metadata": {
    "id": "56af223f"
   },
   "outputs": [
    {
     "name": "stdout",
     "output_type": "stream",
     "text": [
      "2024 é um ano bissexto\n"
     ]
    }
   ],
   "source": [
    "ano = int(input(\"Digite o ano: \"))\n",
    "if (ano % 4 == 0 and ano % 100 != 0) or (ano % 400 == 0):\n",
    "    print(f\"{ano} é um ano bissexto\")\n",
    "else:\n",
    "    print(f\"{ano} não é um ano bissexto\")\n",
    "    "
   ]
  },
  {
   "cell_type": "markdown",
   "id": "9fe532c8",
   "metadata": {
    "id": "9fe532c8"
   },
   "source": [
    "#### 16. Faça um Programa para leitura de três notas parciais de um aluno. O programa deve calcular a média alcançada por aluno e presentar:\n",
    "<pre>\n",
    "A mensagem \"Aprovado\", se a média for maior ou igual a 7, com a respectiva média alcançada;\n",
    "A mensagem \"Reprovado\", se a média for menor do que 7, com a respectiva média alcançada;\n",
    "A mensagem \"Aprovado com Distinção\", se a média for igual a 10.\n",
    "</pre>"
   ]
  },
  {
   "cell_type": "code",
   "execution_count": 48,
   "id": "1a56e99f",
   "metadata": {
    "id": "1a56e99f"
   },
   "outputs": [
    {
     "name": "stdout",
     "output_type": "stream",
     "text": [
      "Nota inválida\n"
     ]
    }
   ],
   "source": [
    "nota1 = float(input(\"Digite a primeira nota: \"))\n",
    "nota2 = float(input(\"Digite a segunda nota: \")) \n",
    "nota3 = float(input(\"Digite a terceira nota: \"))\n",
    "media = (nota1 + nota2 + nota3) / 3\n",
    "if media == 10:\n",
    "    print(\"Aprovado com distinção\")\n",
    "elif media >= 7 and media < 10:\n",
    "    print(\"Aprovado\")   \n",
    "elif media < 7 and media >= 0:\n",
    "    print(\"Reprovado\")\n",
    "else:\n",
    "    print(\"Nota inválida\")\n",
    "\n"
   ]
  },
  {
   "cell_type": "markdown",
   "id": "d544412e",
   "metadata": {
    "id": "d544412e"
   },
   "source": [
    "#### 17. João Papo-de-Pescador, homem de bem, comprou um microcomputador para controlar o rendimento diário de seu trabalho. Toda vez que ele traz um peso de peixes maior que o estabelecido pelo regulamento de pesca do estado de São Paulo (50 quilos) deve pagar uma multa de R$ 4,00 por quilo excedente. João precisa que você faça um programa que leia a variável peso (peso de peixes) e calcule o excesso. Gravar na variável excesso a quantidade de quilos além do limite e na variável multa o valor da multa que João deverá pagar. Imprima os dados do programa com as mensagens adequadas."
   ]
  },
  {
   "cell_type": "code",
   "execution_count": 50,
   "id": "971ed027",
   "metadata": {
    "id": "971ed027"
   },
   "outputs": [
    {
     "name": "stdout",
     "output_type": "stream",
     "text": [
      "Peso acima do limite: 10.00 kg\n",
      "Multa a pagar: R$ 40.00\n"
     ]
    }
   ],
   "source": [
    "peso_peixe = float(input(\"Digite o peso do peixe: \"))\n",
    "if peso_peixe <= 50:\n",
    "    print(\"Peso dentro do limite\")\n",
    "else:\n",
    "    excesso = peso_peixe - 50\n",
    "    multa = excesso * 4\n",
    "    print(f\"Peso acima do limite: {excesso:.2f} kg\")\n",
    "    print(f\"Multa a pagar: R$ {multa:.2f}\")\n",
    "    "
   ]
  },
  {
   "cell_type": "markdown",
   "id": "0e5256e0",
   "metadata": {
    "id": "0e5256e0"
   },
   "source": [
    "#### 18. Faça um Programa para um caixa eletrônico. O programa deverá perguntar ao usuário a valor do saque e depois informar quantas notas de cada valor serão fornecidas. As notas disponíveis serão as de 1, 5, 10, 50 e 100 reais. O valor mínimo é de 10 reais e o máximo de 600 reais. O programa não deve se preocupar com a quantidade de notas existentes na máquina.\n",
    "<pre>\n",
    "Exemplo 1: Para sacar a quantia de 256 reais, o programa fornece duas notas de 100, uma nota de 50, uma nota de 5 e uma nota de 1;\n",
    "Exemplo 2: Para sacar a quantia de 399 reais, o programa fornece três notas de 100, uma nota de 50, quatro notas de 10, uma nota de 5 e quatro notas de 1.\n",
    "</pre>\n",
    "\n",
    "Dica1: numero // 10 vai te dar como resposta a parte inteira da divisão do número por 10.<br>\n",
    "Dica2: numero % 10 vai te dar o resto da divisão do número por 10."
   ]
  },
  {
   "cell_type": "code",
   "execution_count": 52,
   "id": "9b4244c7",
   "metadata": {
    "id": "9b4244c7"
   },
   "outputs": [
    {
     "name": "stdout",
     "output_type": "stream",
     "text": [
      "Notas fornecidas:\n",
      "2 nota(s) de 100 reais\n",
      "1 nota(s) de 50 reais\n",
      "1 nota(s) de 5 reais\n",
      "1 nota(s) de 1 real\n"
     ]
    }
   ],
   "source": [
    "valor_saque = int(input(\"Digite o valor do saque (entre 10 e 600 reais): \"))\n",
    "\n",
    "if valor_saque < 10 or valor_saque > 600:\n",
    "    print(\"Valor inválido! O saque deve ser entre 10 e 600 reais.\")\n",
    "else:\n",
    "    notas_100 = valor_saque // 100\n",
    "    valor_saque %= 100\n",
    "\n",
    "    notas_50 = valor_saque // 50\n",
    "    valor_saque %= 50\n",
    "\n",
    "    notas_10 = valor_saque // 10\n",
    "    valor_saque %= 10\n",
    "\n",
    "    notas_5 = valor_saque // 5\n",
    "    valor_saque %= 5\n",
    "\n",
    "    notas_1 = valor_saque\n",
    "\n",
    "    print(\"Notas fornecidas:\")\n",
    "    if notas_100 > 0:\n",
    "        print(f\"{notas_100} nota(s) de 100 reais\")\n",
    "    if notas_50 > 0:\n",
    "        print(f\"{notas_50} nota(s) de 50 reais\")\n",
    "    if notas_10 > 0:\n",
    "        print(f\"{notas_10} nota(s) de 10 reais\")\n",
    "    if notas_5 > 0:\n",
    "        print(f\"{notas_5} nota(s) de 5 reais\")\n",
    "    if notas_1 > 0:\n",
    "        print(f\"{notas_1} nota(s) de 1 real\")"
   ]
  },
  {
   "cell_type": "markdown",
   "id": "cba47494",
   "metadata": {
    "id": "cba47494"
   },
   "source": [
    "#### 19. Faça um programa que faça 5 perguntas para uma pessoa sobre um crime. As perguntas são:\n",
    "<pre>\n",
    "\"Telefonou para a vítima?\"\n",
    "\"Esteve no local do crime?\"\n",
    "\"Mora perto da vítima?\"\n",
    "\"Devia para a vítima?\"\n",
    "\"Já trabalhou com a vítima?\" \n",
    "O programa deve no final emitir uma classificação sobre a participação da pessoa no crime. Se a pessoa responder positivamente a 2 questões ela deve ser classificada como \"Suspeita\", entre 3 e 4 como \"Cúmplice\" e 5 como \"Assassino\". Caso contrário, ele será classificado como \"Inocente\".\n",
    "</pre>"
   ]
  },
  {
   "cell_type": "code",
   "execution_count": 55,
   "id": "5fdf9b88",
   "metadata": {
    "id": "5fdf9b88"
   },
   "outputs": [
    {
     "name": "stdout",
     "output_type": "stream",
     "text": [
      "Responda as perguntas com 'sim' ou 'não':\n",
      "Classificação: Inocente\n"
     ]
    }
   ],
   "source": [
    "print(\"Responda as perguntas com 'sim' ou 'não':\")\n",
    "\n",
    "respostas_positivas = 0\n",
    "\n",
    "resposta = input(\"Telefonou para a vítima? \").strip().lower()\n",
    "if resposta == \"sim\":\n",
    "    respostas_positivas += 1\n",
    "\n",
    "resposta = input(\"Esteve no local do crime? \").strip().lower()\n",
    "if resposta == \"sim\":\n",
    "    respostas_positivas += 1\n",
    "\n",
    "resposta = input(\"Mora perto da vítima? \").strip().lower()\n",
    "if resposta == \"sim\":\n",
    "    respostas_positivas += 1\n",
    "\n",
    "resposta = input(\"Devia para a vítima? \").strip().lower()\n",
    "if resposta == \"sim\":\n",
    "    respostas_positivas += 1\n",
    "\n",
    "resposta = input(\"Já trabalhou com a vítima? \").strip().lower()\n",
    "if resposta == \"sim\":\n",
    "    respostas_positivas += 1\n",
    "\n",
    "if respostas_positivas == 2:\n",
    "    classificacao = \"Suspeita\"\n",
    "elif 3 <= respostas_positivas <= 4:\n",
    "    classificacao = \"Cúmplice\"\n",
    "elif respostas_positivas == 5:\n",
    "    classificacao = \"Assassino\"\n",
    "else:\n",
    "    classificacao = \"Inocente\"\n",
    "\n",
    "print(f\"Classificação: {classificacao}\")"
   ]
  },
  {
   "cell_type": "markdown",
   "id": "18901e98",
   "metadata": {
    "id": "18901e98"
   },
   "source": [
    "#### 20. Um posto está vendendo combustíveis com a seguinte tabela de descontos:\n",
    "<pre>\n",
    "Álcool:\n",
    "até 20 litros, desconto de 3% por litro\n",
    "acima de 20 litros, desconto de 5% por litro\n",
    "Gasolina:\n",
    "até 20 litros, desconto de 4% por litro\n",
    "acima de 20 litros, desconto de 6% por litro\n",
    "\n",
    "Escreva um algoritmo que leia o número de litros vendidos, o tipo de combustível (codificado da seguinte forma: A-álcool, G-gasolina), calcule e imprima o valor a ser pago pelo cliente sabendo-se que o preço do litro da gasolina é R$ 2,50 o preço do litro do álcool é R$ 1,90.\n",
    "</pre>"
   ]
  },
  {
   "cell_type": "code",
   "execution_count": 59,
   "id": "a1fd8c38",
   "metadata": {
    "id": "a1fd8c38"
   },
   "outputs": [
    {
     "name": "stdout",
     "output_type": "stream",
     "text": [
      "Tipo de combustível inválido!\n"
     ]
    }
   ],
   "source": [
    "# Preços dos combustíveis\n",
    "preco_alcool = 1.90\n",
    "preco_gasolina = 2.50\n",
    "\n",
    "# Entrada de dados\n",
    "tipo_combustivel = input(\"Digite o tipo de combustível (A-álcool, G-gasolina): \").strip().upper()\n",
    "litros_vendidos = float(input(\"Digite a quantidade de litros vendidos: \"))\n",
    "\n",
    "# Cálculo do valor a ser pago\n",
    "if tipo_combustivel == \"A\":  # Álcool\n",
    "    if litros_vendidos <= 20:\n",
    "        desconto = 0.03  # 3%\n",
    "    else:\n",
    "        desconto = 0.05  # 5%\n",
    "    preco_total = litros_vendidos * preco_alcool\n",
    "    valor_desconto = preco_total * desconto\n",
    "    valor_a_pagar = preco_total - valor_desconto\n",
    "\n",
    "elif tipo_combustivel == \"G\":  # Gasolina\n",
    "    if litros_vendidos <= 20:\n",
    "        desconto = 0.04  # 4%\n",
    "    else:\n",
    "        desconto = 0.06  # 6%\n",
    "    preco_total = litros_vendidos * preco_gasolina\n",
    "    valor_desconto = preco_total * desconto\n",
    "    valor_a_pagar = preco_total - valor_desconto\n",
    "\n",
    "else:\n",
    "    print(\"Tipo de combustível inválido!\")\n",
    "    valor_a_pagar = None\n",
    "\n",
    "# Exibição do resultado\n",
    "if valor_a_pagar is not None:\n",
    "    print(f\"Valor total sem desconto: R$ {preco_total:.2f}\")\n",
    "    print(f\"Desconto aplicado: R$ {valor_desconto:.2f}\")\n",
    "    print(f\"Valor a pagar: R$ {valor_a_pagar:.2f}\")"
   ]
  },
  {
   "cell_type": "markdown",
   "id": "be0f8f32",
   "metadata": {
    "id": "be0f8f32"
   },
   "source": [
    "#### 21. Uma fruteira está vendendo frutas com a seguinte tabela de preços:\n",
    "<pre>\n",
    "                      Até 5 Kg           Acima de 5 Kg\n",
    "Morango         R$ 2,50 por Kg          R$ 2,20 por Kg\n",
    "Maçã            R$ 1,80 por Kg          R$ 1,50 por Kg\n",
    "Se o cliente comprar mais de 8 Kg em frutas ou o valor total da compra ultrapassar R$ 25,00, receberá ainda um desconto de 10% sobre este total. Escreva um algoritmo para ler a quantidade (em Kg) de morangos e a quantidade (em Kg) de maças adquiridas e escreva o valor a ser pago pelo cliente.\n",
    "</pre>"
   ]
  },
  {
   "cell_type": "code",
   "execution_count": 61,
   "id": "35c47c8e",
   "metadata": {
    "id": "35c47c8e"
   },
   "outputs": [
    {
     "name": "stdout",
     "output_type": "stream",
     "text": [
      "Valor total dos morangos: R$ 44.00\n",
      "Valor total das maçãs: R$ 30.00\n",
      "Valor total a ser pago: R$ 66.60\n"
     ]
    }
   ],
   "source": [
    "# Entrada de dados\n",
    "kg_morango = float(input(\"Digite a quantidade de morangos (em Kg): \"))\n",
    "kg_maca = float(input(\"Digite a quantidade de maçãs (em Kg): \"))\n",
    "\n",
    "# Preços por Kg\n",
    "if kg_morango <= 5:\n",
    "    preco_morango = 2.50\n",
    "else:\n",
    "    preco_morango = 2.20\n",
    "\n",
    "if kg_maca <= 5:\n",
    "    preco_maca = 1.80\n",
    "else:\n",
    "    preco_maca = 1.50\n",
    "\n",
    "# Cálculo do valor total\n",
    "valor_morango = kg_morango * preco_morango\n",
    "valor_maca = kg_maca * preco_maca\n",
    "valor_total = valor_morango + valor_maca\n",
    "\n",
    "# Verificação de desconto adicional\n",
    "peso_total = kg_morango + kg_maca\n",
    "if peso_total > 8 or valor_total > 25.00:\n",
    "    desconto = valor_total * 0.10  # 10% de desconto\n",
    "    valor_total -= desconto\n",
    "\n",
    "# Exibição do resultado\n",
    "print(f\"Valor total dos morangos: R$ {valor_morango:.2f}\")\n",
    "print(f\"Valor total das maçãs: R$ {valor_maca:.2f}\")    \n",
    "print(f\"Valor total a ser pago: R$ {valor_total:.2f}\")"
   ]
  },
  {
   "cell_type": "markdown",
   "id": "4dbd53ed",
   "metadata": {
    "id": "4dbd53ed"
   },
   "source": [
    "#### 22. O Hipermercado Tabajara está com uma promoção de carnes que é imperdível. Confira:\n",
    "<pre>\n",
    "                      Até 5 Kg           Acima de 5 Kg\n",
    "File Duplo      R$ 4,90 por Kg          R$ 5,80 por Kg\n",
    "Alcatra         R$ 5,90 por Kg          R$ 6,80 por Kg\n",
    "Picanha         R$ 6,90 por Kg          R$ 7,80 por Kg\n",
    "Para atender a todos os clientes, cada cliente poderá levar apenas um dos tipos de carne da promoção, porém não há limites para a quantidade de carne por cliente. Se compra for feita no cartão Tabajara o cliente receberá ainda um desconto de 5% sobre o total da compra. Escreva um programa que peça o tipo e a quantidade de carne comprada pelo usuário e gere um cupom fiscal, contendo as informações da compra: tipo e quantidade de carne, preço total, tipo de pagamento, valor do desconto e valor a pagar.\n",
    "</pre>"
   ]
  },
  {
   "cell_type": "code",
   "execution_count": 1,
   "id": "15a77357",
   "metadata": {
    "id": "15a77357"
   },
   "outputs": [
    {
     "name": "stdout",
     "output_type": "stream",
     "text": [
      "Tipos de carne disponíveis: File Duplo (F), Alcatra (A), Picanha (P)\n",
      "\n",
      "--- Cupom Fiscal ---\n",
      "Tipo de carne: File Duplo\n",
      "Quantidade: 7.00 Kg\n",
      "Preço total: R$ 40.60\n",
      "Tipo de pagamento: Cartão Tabajara\n",
      "Valor do desconto: R$ 2.03\n",
      "Valor a pagar: R$ 38.57\n"
     ]
    }
   ],
   "source": [
    "# Entrada de dados\n",
    "print(\"Tipos de carne disponíveis: File Duplo (F), Alcatra (A), Picanha (P)\")\n",
    "tipo_carne = input(\"Digite o tipo de carne (F/A/P): \").strip().upper()\n",
    "quantidade = float(input(\"Digite a quantidade de carne (em Kg): \"))\n",
    "pagamento = input(\"Pagamento será no cartão Tabajara? (S/N): \").strip().upper()\n",
    "\n",
    "# Definindo o preço por Kg\n",
    "if tipo_carne == \"F\":\n",
    "    nome_carne = \"File Duplo\"\n",
    "    preco = 4.90 if quantidade <= 5 else 5.80\n",
    "elif tipo_carne == \"A\":\n",
    "    nome_carne = \"Alcatra\"\n",
    "    preco = 5.90 if quantidade <= 5 else 6.80\n",
    "elif tipo_carne == \"P\":\n",
    "    nome_carne = \"Picanha\"\n",
    "    preco = 6.90 if quantidade <= 5 else 7.80\n",
    "else:\n",
    "    print(\"Tipo de carne inválido!\")\n",
    "    preco = 0\n",
    "\n",
    "# Cálculo do valor total\n",
    "valor_total = quantidade * preco\n",
    "\n",
    "# Desconto do cartão Tabajara\n",
    "if pagamento == \"S\":\n",
    "    desconto = valor_total * 0.05\n",
    "    tipo_pagamento = \"Cartão Tabajara\"\n",
    "else:\n",
    "    desconto = 0\n",
    "    tipo_pagamento = \"Outro\"\n",
    "\n",
    "valor_a_pagar = valor_total - desconto\n",
    "\n",
    "# Cupom fiscal\n",
    "print(\"\\n--- Cupom Fiscal ---\")\n",
    "print(f\"Tipo de carne: {nome_carne}\")\n",
    "print(f\"Quantidade: {quantidade:.2f} Kg\")\n",
    "print(f\"Preço total: R$ {valor_total:.2f}\")\n",
    "print(f\"Tipo de pagamento: {tipo_pagamento}\")\n",
    "print(f\"Valor do desconto: R$ {desconto:.2f}\")\n",
    "print(f\"Valor a pagar: R$ {valor_a_pagar:.2f}\")"
   ]
  },
  {
   "cell_type": "markdown",
   "id": "b949545b",
   "metadata": {
    "id": "b949545b"
   },
   "source": [
    "#### 23. Faça um Programa para uma loja de tintas. O programa deverá pedir o tamanho em metros quadrados da área a ser pintada. Considere que a cobertura da tinta é de 1 litro para cada 6 metros quadrados e que a tinta é vendida em latas de 18 litros, que custam R\\\\$ 80,00 ou em galões de 3,6 litros, que custam R\\\\$ 25,00."
   ]
  },
  {
   "cell_type": "code",
   "execution_count": null,
   "id": "b11185b0",
   "metadata": {
    "id": "b11185b0"
   },
   "outputs": [
    {
     "name": "stdout",
     "output_type": "stream",
     "text": [
      "\n",
      "Situação 1: Apenas latas de 18 litros\n",
      "Quantidade de latas: 1\n",
      "Preço total: R$ 80.00\n",
      "\n",
      "Situação 2: Apenas galões de 3,6 litros\n",
      "Quantidade de galões: 2\n",
      "Preço total: R$ 50.00\n",
      "\n",
      "Situação 3: Mistura de latas e galões\n",
      "Quantidade de latas: 0\n",
      "Quantidade de galões: 2\n",
      "Preço total: R$ 50.00\n"
     ]
    }
   ],
   "source": [
    "# Programa para calcular a quantidade de tinta necessária e o preço\n",
    "# Sem usar math.ceil\n",
    "\n",
    "area = float(input(\"Digite o tamanho da área a ser pintada em metros quadrados: \"))\n",
    "\n",
    "# 1 litro para cada 6 m²\n",
    "litros_necessarios = area / 6\n",
    "\n",
    "# Se não for inteiro, arredonda para cima manualmente\n",
    "if litros_necessarios != int(litros_necessarios):\n",
    "    litros_necessarios = int(litros_necessarios) + 1\n",
    "else:\n",
    "    litros_necessarios = int(litros_necessarios)\n",
    "\n",
    "# Lata: 18 litros, R$ 80,00\n",
    "# Galão: 3,6 litros, R$ 25,00\n",
    "\n",
    "# 1. Apenas latas de 18 litros\n",
    "latas = litros_necessarios // 18\n",
    "if litros_necessarios % 18 != 0:\n",
    "    latas += 1\n",
    "preco_latas = latas * 80\n",
    "\n",
    "\n",
    "# 2. Apenas galões de 3,6 litros\n",
    "galoes = litros_necessarios // 3.6\n",
    "if litros_necessarios % 3.6 != 0:\n",
    "    galoes = int(galoes) + 1\n",
    "else:\n",
    "    galoes = int(galoes)\n",
    "preco_galoes = galoes * 25\n",
    "\n",
    "# 3. Misturar latas e galões (menos desperdício)\n",
    "latas_mistura = litros_necessarios // 18\n",
    "restante = litros_necessarios % 18\n",
    "if restante == 0:\n",
    "    galoes_mistura = 0\n",
    "else:\n",
    "    galoes_mistura = restante // 3.6\n",
    "    if restante % 3.6 != 0:\n",
    "        galoes_mistura = int(galoes_mistura) + 1\n",
    "    else:\n",
    "        galoes_mistura = int(galoes_mistura)\n",
    "preco_mistura = (latas_mistura * 80) + (galoes_mistura * 25)\n",
    "\n",
    "print(f\"\\nSituação 1: Apenas latas de 18 litros\")\n",
    "print(f\"Quantidade de latas: {int(latas)}\")\n",
    "print(f\"Preço total: R$ {preco_latas:.2f}\")\n",
    "\n",
    "print(f\"\\nSituação 2: Apenas galões de 3,6 litros\")\n",
    "print(f\"Quantidade de galões: {int(galoes)}\")\n",
    "print(f\"Preço total: R$ {preco_galoes:.2f}\")\n",
    "\n",
    "print(f\"\\nSituação 3: Mistura de latas e galões\")\n",
    "print(f\"Quantidade de latas: {int(latas_mistura)}\")\n",
    "print(f\"Quantidade de galões: {int(galoes_mistura)}\")\n",
    "print(f\"Preço total: R$ {preco_mistura:.2f}\")"
   ]
  },
  {
   "cell_type": "markdown",
   "id": "b3d0598f",
   "metadata": {
    "id": "b3d0598f"
   },
   "source": [
    "##### Informe ao usuário as quantidades de tinta a serem compradas e os respectivos preços em 3 situações.\n",
    "\n",
    "Dica: lembre dos operadores // e % mostrados em exercícios anteriores<br>\n",
    "Dica1: numero // 10 vai te dar como resposta a parte inteira da divisão do número por 10.<br>\n",
    "Dica2: numero % 10 vai te dar o resto da divisão do número por 10.\n",
    "\n",
    "##### 1. Comprar apenas latas de 18 litros: (apenas latas inteiras)"
   ]
  },
  {
   "cell_type": "code",
   "execution_count": null,
   "id": "ed599d53",
   "metadata": {
    "id": "ed599d53"
   },
   "outputs": [],
   "source": []
  },
  {
   "cell_type": "markdown",
   "id": "ab03bc10",
   "metadata": {
    "id": "ab03bc10"
   },
   "source": [
    "##### 2. Comprar apenas galões de 3,6 litros: (apenas galoes inteiros)"
   ]
  },
  {
   "cell_type": "code",
   "execution_count": null,
   "id": "542f4a77",
   "metadata": {
    "id": "542f4a77"
   },
   "outputs": [],
   "source": []
  },
  {
   "cell_type": "markdown",
   "id": "8Jbw7RupH9Nc",
   "metadata": {
    "id": "8Jbw7RupH9Nc"
   },
   "source": [
    "##### 3. Misturar latas e galões, de forma que o desperdício de tinta seja menor. Acrescente 10% de folga e sempre arredonde os valores para cima, isto é, considere latas cheias."
   ]
  },
  {
   "cell_type": "markdown",
   "id": "93d4157b",
   "metadata": {
    "id": "93d4157b"
   },
   "source": [
    "O custo da lata é 80/18 = 4,44 R\\\\$/L\n",
    "\n",
    "O custo do galão é 25/3,6 = 6,94 R\\\\$/L\n",
    "\n",
    "A lata é mais econômica, então todas as latas inteiras que pudermos usar devemos comprar em latas. Se ficar faltando alguma coisa para completar devemos avaliar se é melhor comprar latas ou galões. Exemplo:\n",
    "\n",
    "Se queremos comprar 90 litros. 5 latas dão exatamente 90 litros. Então devemos comprar tudo em latas.\n",
    "\n",
    "Se queremos comprar 95 litros. 5 latas dão exatamente 90 litros. Então devemos comprar pelo menos 5 latas e avaliar o que falta, se estes últimos 5 litros valem mais apenas em latas ou galões.\n",
    "\n",
    "Para os 5 litros faltantes precisamos de 2 galões que custam 50 reais no total. Ou de uma lata que custa 80 reais no total. Portanto, neste caso vale mais a pena usar 2 galões.\n",
    "\n",
    "Se queremos comprar 107 litros. 5 latas dão exatamente 90 litros. Então devemos comprar pelo menos 5 latas e avaliar o que falta, se estes últimos 5 litros valem mais apenas em latas ou galões.\n",
    "\n",
    "Para os 17 litros faltantes precisamos de 5 galões que custam 125 reais no total. Ou de uma lata que custa 80 reais no total. Portanto, neste caso vale mais a pena usar uma lata.\n",
    "\n",
    "3 galões custam 75 reais, 4 galões custam 100 reais. Então, se for possível completar com até 3 galões escolhe-se galões. Qualquer quantidade maior que 3 galões, usa-se latas.\n",
    "\n",
    "Podemos ir ao exercício:"
   ]
  },
  {
   "cell_type": "code",
   "execution_count": null,
   "id": "01d104b6",
   "metadata": {
    "id": "01d104b6"
   },
   "outputs": [],
   "source": []
  }
 ],
 "metadata": {
  "colab": {
   "provenance": []
  },
  "kernelspec": {
   "display_name": "Python 3",
   "language": "python",
   "name": "python3"
  },
  "language_info": {
   "codemirror_mode": {
    "name": "ipython",
    "version": 3
   },
   "file_extension": ".py",
   "mimetype": "text/x-python",
   "name": "python",
   "nbconvert_exporter": "python",
   "pygments_lexer": "ipython3",
   "version": "3.13.2"
  }
 },
 "nbformat": 4,
 "nbformat_minor": 5
}
